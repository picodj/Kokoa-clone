{
  "nbformat": 4,
  "nbformat_minor": 0,
  "metadata": {
    "colab": {
      "name": "Untitled4.ipynb",
      "provenance": [],
      "collapsed_sections": [],
      "authorship_tag": "ABX9TyOpfVScO/Dsg+Fr3crePzev",
      "include_colab_link": true
    },
    "kernelspec": {
      "name": "python3",
      "display_name": "Python 3"
    }
  },
  "cells": [
    {
      "cell_type": "markdown",
      "metadata": {
        "id": "view-in-github",
        "colab_type": "text"
      },
      "source": [
        "<a href=\"https://colab.research.google.com/github/picodj/Kokoa-clone2020/blob/gh-pages/2021-02-19(Fri)_classday_5.ipynb\" target=\"_parent\"><img src=\"https://colab.research.google.com/assets/colab-badge.svg\" alt=\"Open In Colab\"/></a>"
      ]
    },
    {
      "cell_type": "code",
      "metadata": {
        "id": "IxE-OT6NMHwa"
      },
      "source": [
        "a='p'"
      ],
      "execution_count": 45,
      "outputs": []
    },
    {
      "cell_type": "markdown",
      "metadata": {
        "id": "8a9O2eyHW-HN"
      },
      "source": [
        "https://velog.io/@hayeon/%EC%A0%9C%EC%A3%BC%EC%BD%94%EB%94%A9%EB%B2%A0%EC%9D%B4%EC%8A%A4%EC%BA%A0%ED%94%84-Python-2136%EC%A0%9C 파이썬 문제"
      ]
    },
    {
      "cell_type": "code",
      "metadata": {
        "colab": {
          "base_uri": "https://localhost:8080/"
        },
        "id": "qiYh-BmdMMr4",
        "outputId": "a273b19e-5e7d-451b-ca3d-0ba5fc79d4bd"
      },
      "source": [
        "print(type(a))"
      ],
      "execution_count": 46,
      "outputs": [
        {
          "output_type": "stream",
          "text": [
            "<class 'str'>\n"
          ],
          "name": "stdout"
        }
      ]
    },
    {
      "cell_type": "code",
      "metadata": {
        "id": "sTwfa7LDMX1N"
      },
      "source": [
        "a = 10\r\n",
        "b = 2\r\n",
        "for i in range(1,5,2):\r\n",
        "  a += i\r\n",
        "  "
      ],
      "execution_count": 47,
      "outputs": []
    },
    {
      "cell_type": "code",
      "metadata": {
        "colab": {
          "base_uri": "https://localhost:8080/"
        },
        "id": "J79gEjUsMY4n",
        "outputId": "23bad030-0731-4acf-b3f1-75b97df64223"
      },
      "source": [
        "print(a+b)"
      ],
      "execution_count": 48,
      "outputs": [
        {
          "output_type": "stream",
          "text": [
            "16\n"
          ],
          "name": "stdout"
        }
      ]
    },
    {
      "cell_type": "code",
      "metadata": {
        "id": "1bYLOQSmQn5r"
      },
      "source": [
        "d= {'height':180,'weight':78,'weight':84}"
      ],
      "execution_count": 55,
      "outputs": []
    },
    {
      "cell_type": "code",
      "metadata": {
        "colab": {
          "base_uri": "https://localhost:8080/"
        },
        "id": "nC48ftQdSEG5",
        "outputId": "5d78fabb-f76e-4a76-f46e-c97c236e4d56"
      },
      "source": [
        "print(d['weight'])"
      ],
      "execution_count": 56,
      "outputs": [
        {
          "output_type": "stream",
          "text": [
            "84\n"
          ],
          "name": "stdout"
        }
      ]
    },
    {
      "cell_type": "code",
      "metadata": {
        "colab": {
          "base_uri": "https://localhost:8080/"
        },
        "id": "nQ35ghJmTLPD",
        "outputId": "98ec36a3-add4-4f16-f22f-7490d8666698"
      },
      "source": [
        "year = '2019'\r\n",
        "month = '04'\r\n",
        "day = '26'\r\n",
        "hour = '11'\r\n",
        "minute ='34'\r\n",
        "second ='27'\r\n",
        "\r\n",
        "print(year,month,day,sep='/',end=\" \")\r\n",
        "print(hour, minute, second, sep=':',end=\" \")"
      ],
      "execution_count": 65,
      "outputs": [
        {
          "output_type": "stream",
          "text": [
            "2019/04/26 11:34:27 "
          ],
          "name": "stdout"
        }
      ]
    },
    {
      "cell_type": "code",
      "metadata": {
        "colab": {
          "base_uri": "https://localhost:8080/"
        },
        "id": "VTuJFk0SXJA4",
        "outputId": "0b9e36c3-7959-47e4-de24-77dcdd1e3bd3"
      },
      "source": [
        "print('    *    ')\r\n",
        "print('   ***   ')\r\n",
        "print('  *****  ')\r\n",
        "print(' ******* ')\r\n",
        "print('*********')\r\n"
      ],
      "execution_count": 66,
      "outputs": [
        {
          "output_type": "stream",
          "text": [
            "    *    \n",
            "   ***   \n",
            "  *****  \n",
            " ******* \n",
            "*********\n"
          ],
          "name": "stdout"
        }
      ]
    },
    {
      "cell_type": "code",
      "metadata": {
        "colab": {
          "base_uri": "https://localhost:8080/"
        },
        "id": "71UOaUOiZtWd",
        "outputId": "b1b93f4d-468d-465c-8605-41c94cc276cf"
      },
      "source": [
        "    n = int(input(\"몇단 짜리 크리스마스 트리인가요? : \"))\r\n",
        "\r\n",
        "    for i in range(1, n * 2, 2):\r\n",
        "        print((\" \" * ( (n * 2 - 1 - i) // 2 )) + (\"*\" * i))\r\n"
      ],
      "execution_count": 115,
      "outputs": [
        {
          "output_type": "stream",
          "text": [
            "몇단 짜리 크리스마스 트리인가요? : 5\n",
            "    *\n",
            "   ***\n",
            "  *****\n",
            " *******\n",
            "*********\n"
          ],
          "name": "stdout"
        }
      ]
    },
    {
      "cell_type": "code",
      "metadata": {
        "colab": {
          "base_uri": "https://localhost:8080/"
        },
        "id": "-Mjt3ynebeno",
        "outputId": "aa40766c-371a-48da-d1e7-962745c2cd24"
      },
      "source": [
        "n = int(input('몇단짜리 크리스마스 트리를 만들까요? : '))\r\n",
        "for i in range (1,n+1):\r\n",
        "    print(\" \" * (n-i) + \"*\"*(i * 2 -1))"
      ],
      "execution_count": 122,
      "outputs": [
        {
          "output_type": "stream",
          "text": [
            "몇단짜리 크리스마스 트리를 만들까요? : 5\n",
            "    *\n",
            "   ***\n",
            "  *****\n",
            " *******\n",
            "*********\n"
          ],
          "name": "stdout"
        }
      ]
    },
    {
      "cell_type": "code",
      "metadata": {
        "colab": {
          "base_uri": "https://localhost:8080/"
        },
        "id": "fg-bO_5sdw90",
        "outputId": "1af8ddff-431a-4120-c5ce-03ff62a34cdd"
      },
      "source": [
        "# 문제 11번\r\n",
        "s = 0\r\n",
        "for i in range(1,101):\r\n",
        "  s += i\r\n",
        "\r\n",
        "print(s)"
      ],
      "execution_count": 127,
      "outputs": [
        {
          "output_type": "stream",
          "text": [
            "5050\n"
          ],
          "name": "stdout"
        }
      ]
    },
    {
      "cell_type": "code",
      "metadata": {
        "colab": {
          "base_uri": "https://localhost:8080/"
        },
        "id": "tdKqK_AfxfUE",
        "outputId": "24813f53-46e9-4dcd-9da6-a7e80a2c2514"
      },
      "source": [
        "# 문제 12번\r\n",
        "class Wizard:\r\n",
        "  def __init__(self,health,mana,armor):\r\n",
        "      self.health = health\r\n",
        "      self.mana = mana\r\n",
        "      self.armor = armor\r\n",
        "  def attack(self):\r\n",
        "    return print('파이어볼')\r\n",
        "  \r\n",
        "\r\n",
        "\r\n",
        "x = Wizard(health = 545, mana = 210, armor = 10)\r\n",
        "print(x.health, x.mana, x.armor)\r\n",
        "x.attack()"
      ],
      "execution_count": 148,
      "outputs": [
        {
          "output_type": "stream",
          "text": [
            "545 210 10\n",
            "파이어볼\n"
          ],
          "name": "stdout"
        }
      ]
    },
    {
      "cell_type": "code",
      "metadata": {
        "colab": {
          "base_uri": "https://localhost:8080/"
        },
        "id": "P4Hf_NY4xfMP",
        "outputId": "daebe78b-bc26-43e1-9bb7-3792bd48aa51"
      },
      "source": [
        "# 문제 13번 몇번째 행성인가요?\r\n",
        "\r\n",
        "planets = [\"수성\",\"금성\",\"지구\",\"화성\",\"목성\",\"토성\",\"천왕성\",\"해왕성\"]\r\n",
        "\r\n",
        "n = int(input(\"태양계의 n번째 행성은? : \")) -1 \r\n",
        "print(planets[n])\r\n",
        "\r\n"
      ],
      "execution_count": 174,
      "outputs": [
        {
          "output_type": "stream",
          "text": [
            "태양계의 n번째 행성은? : 1\n",
            "수성\n"
          ],
          "name": "stdout"
        }
      ]
    },
    {
      "cell_type": "code",
      "metadata": {
        "colab": {
          "base_uri": "https://localhost:8080/"
        },
        "id": "oaaIDi3i7Uv6",
        "outputId": "545ae7a9-a062-4374-e522-34a46af0258c"
      },
      "source": [
        "# 문제 14번 3의 배수 인가요?\r\n",
        "\r\n",
        "a = int(input('숫자를 입력하세요 : '))\r\n",
        "if a % 3 == 0 :\r\n",
        "  print('짝')\r\n",
        "else:\r\n",
        "  print(a)"
      ],
      "execution_count": 178,
      "outputs": [
        {
          "output_type": "stream",
          "text": [
            "숫자를 입력하세요 : 15\n",
            "짝\n"
          ],
          "name": "stdout"
        }
      ]
    },
    {
      "cell_type": "code",
      "metadata": {
        "colab": {
          "base_uri": "https://localhost:8080/"
        },
        "id": "Wow9o3KU9XuY",
        "outputId": "9cead897-7648-46ea-acef-1166493434af"
      },
      "source": [
        "# 문제 15번 자기소개\r\n",
        "\r\n",
        "a = input('이름을 입력하세요 :' )\r\n",
        "\r\n",
        "print('안녕하세요 저는 %s입니다.' % a)"
      ],
      "execution_count": 201,
      "outputs": [
        {
          "output_type": "stream",
          "text": [
            "이름을 입력하세요 :서동주\n",
            "안녕하세요 저는 서동주입니다.\n"
          ],
          "name": "stdout"
        }
      ]
    },
    {
      "cell_type": "code",
      "metadata": {
        "colab": {
          "base_uri": "https://localhost:8080/"
        },
        "id": "hFveUFGbCPLP",
        "outputId": "b15290a6-69a8-416e-e2d1-9f7fa57efd6d"
      },
      "source": [
        "# 문제 16번\r\n",
        "\r\n",
        "a = input('문장을 입력해주세요 : ')\r\n",
        "print(a[::-1])\r\n",
        "\r\n",
        "\r\n",
        "\r\n"
      ],
      "execution_count": 200,
      "outputs": [
        {
          "output_type": "stream",
          "text": [
            "문장을 입력해주세요 : 거꾸로\n",
            "로꾸거\n"
          ],
          "name": "stdout"
        }
      ]
    },
    {
      "cell_type": "code",
      "metadata": {
        "colab": {
          "base_uri": "https://localhost:8080/"
        },
        "id": "v_bdIg0-C_7N",
        "outputId": "a606f873-5332-417b-b957-d84368b60e10"
      },
      "source": [
        "# 문제 17번 \r\n",
        "\r\n",
        "\r\n",
        "a = int(input('키를 입력하세요 : '))\r\n",
        "if a > 150:\r\n",
        "  print('YES')\r\n",
        "else:\r\n",
        "  print('NO')"
      ],
      "execution_count": 184,
      "outputs": [
        {
          "output_type": "stream",
          "text": [
            "키를 입력하세요 : 140\n",
            "NO\n"
          ],
          "name": "stdout"
        }
      ]
    },
    {
      "cell_type": "code",
      "metadata": {
        "colab": {
          "base_uri": "https://localhost:8080/"
        },
        "id": "jSXhvqFSD0Re",
        "outputId": "432f7442-4710-46eb-81d4-c6bfa8a259c6"
      },
      "source": [
        "# 문제 18 번  한번에 입력받도록 \r\n",
        "\r\n",
        "nums=list(map(int,input().split()))\r\n",
        "\r\n",
        "print(int(sum(nums)/len(nums)))"
      ],
      "execution_count": 220,
      "outputs": [
        {
          "output_type": "stream",
          "text": [
            "55 45 85 88 22 15 46\n",
            "50\n"
          ],
          "name": "stdout"
        }
      ]
    },
    {
      "cell_type": "code",
      "metadata": {
        "colab": {
          "base_uri": "https://localhost:8080/"
        },
        "id": "0sbAJ0TMIluX",
        "outputId": "c8d5b3d3-1071-4468-f5ad-fe16e10f8ffd"
      },
      "source": [
        "# 문제 19번\r\n",
        "\r\n",
        "a,b=map(int,input().split())\r\n",
        "print(a**b)"
      ],
      "execution_count": 221,
      "outputs": [
        {
          "output_type": "stream",
          "text": [
            "3 2\n",
            "9\n"
          ],
          "name": "stdout"
        }
      ]
    },
    {
      "cell_type": "code",
      "metadata": {
        "colab": {
          "base_uri": "https://localhost:8080/"
        },
        "id": "4moUt5qNPO0-",
        "outputId": "e87b294f-497b-476c-a43e-a1e90acea939"
      },
      "source": [
        "n = list(map(int,input().split()))  # 외워라 \r\n",
        "print(n[0]**n[1])"
      ],
      "execution_count": 222,
      "outputs": [
        {
          "output_type": "stream",
          "text": [
            "3 2\n",
            "9\n"
          ],
          "name": "stdout"
        }
      ]
    },
    {
      "cell_type": "code",
      "metadata": {
        "colab": {
          "base_uri": "https://localhost:8080/"
        },
        "id": "ZNVzOS_tP68P",
        "outputId": "a1996ba1-8cff-432c-efef-5551f592fdc2"
      },
      "source": [
        "# 문제 20 몫과 나머지 \r\n",
        "# 공백으로 구분하여 두숫자가 주어집니다. \r\n",
        "# 첫번째 숫자로 두번째 숫자를 나누었을때 그 몫과 나머지를 공백으로 구분하여 출력하세요\r\n",
        "\r\n",
        "n = list(map(int,input().split()))\r\n",
        "\r\n",
        "print(n[0]//n[1], end=' ')\r\n",
        "print(n[0]%n[1])\r\n",
        "      \r\n"
      ],
      "execution_count": 234,
      "outputs": [
        {
          "output_type": "stream",
          "text": [
            "10 5\n",
            "2 0\n"
          ],
          "name": "stdout"
        }
      ]
    },
    {
      "cell_type": "code",
      "metadata": {
        "colab": {
          "base_uri": "https://localhost:8080/"
        },
        "id": "DCkPDrxMQtU5",
        "outputId": "cb75c3ea-4672-4815-f3a9-590a8f013380"
      },
      "source": [
        "user_input = input()\r\n",
        "print(user_input.upper())"
      ],
      "execution_count": 236,
      "outputs": [
        {
          "output_type": "stream",
          "text": [
            "mary\n",
            "MARY\n"
          ],
          "name": "stdout"
        }
      ]
    },
    {
      "cell_type": "code",
      "metadata": {
        "colab": {
          "base_uri": "https://localhost:8080/"
        },
        "id": "gPtdpMBNTxj0",
        "outputId": "2df09f9f-365c-4cf4-d36e-af01db3725d2"
      },
      "source": [
        "# 문제 25번 함수 형태로 \r\n",
        "\r\n",
        "def circle(a):\r\n",
        "  return a*a*3.14\r\n",
        "\r\n",
        "circle(int(input()))\r\n",
        "  "
      ],
      "execution_count": 252,
      "outputs": [
        {
          "output_type": "stream",
          "text": [
            "5\n"
          ],
          "name": "stdout"
        },
        {
          "output_type": "execute_result",
          "data": {
            "text/plain": [
              "78.5"
            ]
          },
          "metadata": {
            "tags": []
          },
          "execution_count": 252
        }
      ]
    },
    {
      "cell_type": "code",
      "metadata": {
        "colab": {
          "base_uri": "https://localhost:8080/"
        },
        "id": "uEIBHBceVyi6",
        "outputId": "cb869dc7-abbc-4720-d26f-a6b558ffba78"
      },
      "source": [
        "# 문제 26 \r\n",
        "\r\n",
        "planet = {\r\n",
        "    '수성': 'Mercury',\r\n",
        "    '금성':'Venus',\r\n",
        "    '지구':'Earth',\r\n",
        "    '화성':'Mars',\r\n",
        "    '목성':'Jupiter',\r\n",
        "    '토성':'Saturn',\r\n",
        "    '천왕성':'Uranus',\r\n",
        "    '해왕성':'Neptune'}\r\n",
        "try:\r\n",
        "  a= input()\r\n",
        "  print(planet[a])\r\n",
        "except KeyError:\r\n",
        "  print('찾는 행성이 없습니다.')\r\n",
        "  "
      ],
      "execution_count": 274,
      "outputs": [
        {
          "output_type": "stream",
          "text": [
            "사과\n",
            "찾는 행성이 없습니다.\n"
          ],
          "name": "stdout"
        }
      ]
    },
    {
      "cell_type": "code",
      "metadata": {
        "id": "b6OJuunKXS1j"
      },
      "source": [
        ""
      ],
      "execution_count": 269,
      "outputs": []
    }
  ]
}